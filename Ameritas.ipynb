{
 "cells": [
  {
   "cell_type": "code",
   "execution_count": 1,
   "metadata": {},
   "outputs": [],
   "source": [
    "# importing the data\n",
    "\n",
    "import pandas as pd\n",
    "\n",
    "df = pd.read_csv(\"CreditCardApplications.csv\")"
   ]
  },
  {
   "cell_type": "markdown",
   "metadata": {},
   "source": [
    "# Summary of results:\n",
    "\n",
    "2.    Draw a histogram for the ranges of the income, credit scores and debt levels of the applicants who were approved ? What are the means, medians and ranges look like? What do you infer?\n",
    "A. Histograms and 7 number summaries of requested variables are provided below, we can see that even for customers who are approved for a credit card, credit score and income are in the lower ranges, and also most people seem to have debt less than 10. We can also infer that though the 50th percentiles are less for each of these variables the mean is high which means outliers could be pulling the mean towards the higher value ranges\n",
    "3.    Prepare the data set by removing outliers and impute missing values and run various models to predict the approval rating\n",
    "Missing values are removed, though we do not have any null values, we have removed columns with special characters. Outliers are treated using z score, as the thumb rule is 99.97% of the data lies less than 3 standard deviations from the mean\n",
    "4.    How do you create train and test data sets for model testing and accuracy?  Show at least 2-3 model approaches for the solution. Which one do you prefer and why? Show the confusion matrix for the accuracy? What are other methods used to show the accuracy?\n",
    "A. Usedd 80-20 split to create train and test datasets, Built LGBM, Logistic regression, and random forest models to perform binary classification. Looking at the evaluation metrics we could say that random forest is performing better. We have looked at accuracy, precision, recall, and AUC values to choose the best model. \n",
    "5.    What are the predictors from the approved model? Why?\n",
    "A. the most important variables from the model are prior defaulter, credit score, employed, number of years employed, income"
   ]
  },
  {
   "cell_type": "code",
   "execution_count": 2,
   "metadata": {},
   "outputs": [
    {
     "name": "stdout",
     "output_type": "stream",
     "text": [
      "<class 'pandas.core.frame.DataFrame'>\n",
      "RangeIndex: 690 entries, 0 to 689\n",
      "Data columns (total 16 columns):\n",
      "Gender           690 non-null object\n",
      "Age              690 non-null object\n",
      "Debt             690 non-null float64\n",
      "Married          690 non-null object\n",
      "BankCustomer     690 non-null object\n",
      "Education        690 non-null object\n",
      "Ethnicity        690 non-null object\n",
      "YearsEMployed    690 non-null float64\n",
      "PriorDef         690 non-null object\n",
      "Employed         690 non-null object\n",
      "CreditScore      690 non-null int64\n",
      "DriverLicense    690 non-null object\n",
      "Citizen          690 non-null object\n",
      "Zipcode          690 non-null object\n",
      "Income           690 non-null int64\n",
      "Approved         690 non-null object\n",
      "dtypes: float64(2), int64(2), object(12)\n",
      "memory usage: 86.3+ KB\n"
     ]
    }
   ],
   "source": [
    "df.info()"
   ]
  },
  {
   "cell_type": "code",
   "execution_count": 3,
   "metadata": {},
   "outputs": [
    {
     "data": {
      "text/html": [
       "<div>\n",
       "<style scoped>\n",
       "    .dataframe tbody tr th:only-of-type {\n",
       "        vertical-align: middle;\n",
       "    }\n",
       "\n",
       "    .dataframe tbody tr th {\n",
       "        vertical-align: top;\n",
       "    }\n",
       "\n",
       "    .dataframe thead th {\n",
       "        text-align: right;\n",
       "    }\n",
       "</style>\n",
       "<table border=\"1\" class=\"dataframe\">\n",
       "  <thead>\n",
       "    <tr style=\"text-align: right;\">\n",
       "      <th></th>\n",
       "      <th>Gender</th>\n",
       "      <th>Age</th>\n",
       "      <th>Debt</th>\n",
       "      <th>Married</th>\n",
       "      <th>BankCustomer</th>\n",
       "      <th>Education</th>\n",
       "      <th>Ethnicity</th>\n",
       "      <th>YearsEMployed</th>\n",
       "      <th>PriorDef</th>\n",
       "      <th>Employed</th>\n",
       "      <th>CreditScore</th>\n",
       "      <th>DriverLicense</th>\n",
       "      <th>Citizen</th>\n",
       "      <th>Zipcode</th>\n",
       "      <th>Income</th>\n",
       "      <th>Approved</th>\n",
       "    </tr>\n",
       "  </thead>\n",
       "  <tbody>\n",
       "    <tr>\n",
       "      <th>685</th>\n",
       "      <td>b</td>\n",
       "      <td>21.08</td>\n",
       "      <td>10.085</td>\n",
       "      <td>y</td>\n",
       "      <td>p</td>\n",
       "      <td>e</td>\n",
       "      <td>h</td>\n",
       "      <td>1.25</td>\n",
       "      <td>f</td>\n",
       "      <td>f</td>\n",
       "      <td>0</td>\n",
       "      <td>f</td>\n",
       "      <td>g</td>\n",
       "      <td>00260</td>\n",
       "      <td>0</td>\n",
       "      <td>-</td>\n",
       "    </tr>\n",
       "    <tr>\n",
       "      <th>686</th>\n",
       "      <td>a</td>\n",
       "      <td>22.67</td>\n",
       "      <td>0.750</td>\n",
       "      <td>u</td>\n",
       "      <td>g</td>\n",
       "      <td>c</td>\n",
       "      <td>v</td>\n",
       "      <td>2.00</td>\n",
       "      <td>f</td>\n",
       "      <td>t</td>\n",
       "      <td>2</td>\n",
       "      <td>t</td>\n",
       "      <td>g</td>\n",
       "      <td>00200</td>\n",
       "      <td>394</td>\n",
       "      <td>-</td>\n",
       "    </tr>\n",
       "    <tr>\n",
       "      <th>687</th>\n",
       "      <td>a</td>\n",
       "      <td>25.25</td>\n",
       "      <td>13.500</td>\n",
       "      <td>y</td>\n",
       "      <td>p</td>\n",
       "      <td>ff</td>\n",
       "      <td>ff</td>\n",
       "      <td>2.00</td>\n",
       "      <td>f</td>\n",
       "      <td>t</td>\n",
       "      <td>1</td>\n",
       "      <td>t</td>\n",
       "      <td>g</td>\n",
       "      <td>00200</td>\n",
       "      <td>1</td>\n",
       "      <td>-</td>\n",
       "    </tr>\n",
       "    <tr>\n",
       "      <th>688</th>\n",
       "      <td>b</td>\n",
       "      <td>17.92</td>\n",
       "      <td>0.205</td>\n",
       "      <td>u</td>\n",
       "      <td>g</td>\n",
       "      <td>aa</td>\n",
       "      <td>v</td>\n",
       "      <td>0.04</td>\n",
       "      <td>f</td>\n",
       "      <td>f</td>\n",
       "      <td>0</td>\n",
       "      <td>f</td>\n",
       "      <td>g</td>\n",
       "      <td>00280</td>\n",
       "      <td>750</td>\n",
       "      <td>-</td>\n",
       "    </tr>\n",
       "    <tr>\n",
       "      <th>689</th>\n",
       "      <td>b</td>\n",
       "      <td>35.00</td>\n",
       "      <td>3.375</td>\n",
       "      <td>u</td>\n",
       "      <td>g</td>\n",
       "      <td>c</td>\n",
       "      <td>h</td>\n",
       "      <td>8.29</td>\n",
       "      <td>f</td>\n",
       "      <td>f</td>\n",
       "      <td>0</td>\n",
       "      <td>t</td>\n",
       "      <td>g</td>\n",
       "      <td>00000</td>\n",
       "      <td>0</td>\n",
       "      <td>-</td>\n",
       "    </tr>\n",
       "  </tbody>\n",
       "</table>\n",
       "</div>"
      ],
      "text/plain": [
       "    Gender    Age    Debt Married BankCustomer Education Ethnicity  \\\n",
       "685      b  21.08  10.085       y            p         e         h   \n",
       "686      a  22.67   0.750       u            g         c         v   \n",
       "687      a  25.25  13.500       y            p        ff        ff   \n",
       "688      b  17.92   0.205       u            g        aa         v   \n",
       "689      b  35.00   3.375       u            g         c         h   \n",
       "\n",
       "     YearsEMployed PriorDef Employed  CreditScore DriverLicense Citizen  \\\n",
       "685           1.25        f        f            0             f       g   \n",
       "686           2.00        f        t            2             t       g   \n",
       "687           2.00        f        t            1             t       g   \n",
       "688           0.04        f        f            0             f       g   \n",
       "689           8.29        f        f            0             t       g   \n",
       "\n",
       "    Zipcode  Income Approved  \n",
       "685   00260       0        -  \n",
       "686   00200     394        -  \n",
       "687   00200       1        -  \n",
       "688   00280     750        -  \n",
       "689   00000       0        -  "
      ]
     },
     "execution_count": 3,
     "metadata": {},
     "output_type": "execute_result"
    }
   ],
   "source": [
    "df.tail()"
   ]
  },
  {
   "cell_type": "code",
   "execution_count": 4,
   "metadata": {},
   "outputs": [],
   "source": [
    "import numpy as np\n",
    "\n",
    "# here, we are assuming \"+\" represents approved\n",
    "df['approved_relabel'] = np.where(df['Approved'] == \"+\", 1, 0)\n",
    "\n",
    "import seaborn as sns\n",
    "\n",
    "df_approved = df[df['approved_relabel'] == 1]"
   ]
  },
  {
   "cell_type": "code",
   "execution_count": 5,
   "metadata": {},
   "outputs": [
    {
     "data": {
      "text/plain": [
       "(690, 17)"
      ]
     },
     "execution_count": 5,
     "metadata": {},
     "output_type": "execute_result"
    }
   ],
   "source": [
    "df.shape"
   ]
  },
  {
   "cell_type": "code",
   "execution_count": 6,
   "metadata": {},
   "outputs": [
    {
     "data": {
      "text/plain": [
       "(307, 17)"
      ]
     },
     "execution_count": 6,
     "metadata": {},
     "output_type": "execute_result"
    }
   ],
   "source": [
    "df_approved.shape"
   ]
  },
  {
   "cell_type": "code",
   "execution_count": 7,
   "metadata": {},
   "outputs": [
    {
     "data": {
      "text/plain": [
       "(array([294.,   8.,   1.,   1.,   0.,   2.,   0.,   0.,   0.,   1.]),\n",
       " array([     0.,  10000.,  20000.,  30000.,  40000.,  50000.,  60000.,\n",
       "         70000.,  80000.,  90000., 100000.]),\n",
       " <a list of 10 Patch objects>)"
      ]
     },
     "execution_count": 7,
     "metadata": {},
     "output_type": "execute_result"
    },
    {
     "data": {
      "image/png": "[encoded data removed]",
      "text/plain": [
       "<Figure size 432x288 with 1 Axes>"
      ]
     },
     "metadata": {},
     "output_type": "display_data"
    }
   ],
   "source": [
    "import matplotlib.pyplot as plt\n",
    "\n",
    "plt.hist(df_approved['Income'])"
   ]
  },
  {
   "cell_type": "code",
   "execution_count": 8,
   "metadata": {},
   "outputs": [
    {
     "data": {
      "text/plain": [
       "(array([220.,  65.,  19.,   1.,   0.,   1.,   0.,   0.,   0.,   1.]),\n",
       " array([ 0. ,  6.7, 13.4, 20.1, 26.8, 33.5, 40.2, 46.9, 53.6, 60.3, 67. ]),\n",
       " <a list of 10 Patch objects>)"
      ]
     },
     "execution_count": 8,
     "metadata": {},
     "output_type": "execute_result"
    },
    {
     "data": {
      "image/png": "[encoded data removed]",
      "text/plain": [
       "<Figure size 432x288 with 1 Axes>"
      ]
     },
     "metadata": {},
     "output_type": "display_data"
    }
   ],
   "source": [
    "plt.hist(df_approved['CreditScore'])"
   ]
  },
  {
   "cell_type": "code",
   "execution_count": 9,
   "metadata": {},
   "outputs": [
    {
     "data": {
      "text/plain": [
       "(array([120.,  58.,  32.,  45.,  27.,  13.,   4.,   5.,   2.,   1.]),\n",
       " array([ 0. ,  2.8,  5.6,  8.4, 11.2, 14. , 16.8, 19.6, 22.4, 25.2, 28. ]),\n",
       " <a list of 10 Patch objects>)"
      ]
     },
     "execution_count": 9,
     "metadata": {},
     "output_type": "execute_result"
    },
    {
     "data": {
      "image/png": "[encoded data removed]",
      "text/plain": [
       "<Figure size 432x288 with 1 Axes>"
      ]
     },
     "metadata": {},
     "output_type": "display_data"
    }
   ],
   "source": [
    "plt.hist(df_approved['Debt'])"
   ]
  },
  {
   "cell_type": "code",
   "execution_count": 10,
   "metadata": {},
   "outputs": [
    {
     "data": {
      "text/html": [
       "<div>\n",
       "<style scoped>\n",
       "    .dataframe tbody tr th:only-of-type {\n",
       "        vertical-align: middle;\n",
       "    }\n",
       "\n",
       "    .dataframe tbody tr th {\n",
       "        vertical-align: top;\n",
       "    }\n",
       "\n",
       "    .dataframe thead th {\n",
       "        text-align: right;\n",
       "    }\n",
       "</style>\n",
       "<table border=\"1\" class=\"dataframe\">\n",
       "  <thead>\n",
       "    <tr style=\"text-align: right;\">\n",
       "      <th></th>\n",
       "      <th>Income</th>\n",
       "      <th>CreditScore</th>\n",
       "      <th>Debt</th>\n",
       "    </tr>\n",
       "  </thead>\n",
       "  <tbody>\n",
       "    <tr>\n",
       "      <th>count</th>\n",
       "      <td>307.000000</td>\n",
       "      <td>307.000000</td>\n",
       "      <td>307.000000</td>\n",
       "    </tr>\n",
       "    <tr>\n",
       "      <th>mean</th>\n",
       "      <td>2038.859935</td>\n",
       "      <td>4.605863</td>\n",
       "      <td>5.904951</td>\n",
       "    </tr>\n",
       "    <tr>\n",
       "      <th>std</th>\n",
       "      <td>7659.763941</td>\n",
       "      <td>6.320242</td>\n",
       "      <td>5.471485</td>\n",
       "    </tr>\n",
       "    <tr>\n",
       "      <th>min</th>\n",
       "      <td>0.000000</td>\n",
       "      <td>0.000000</td>\n",
       "      <td>0.000000</td>\n",
       "    </tr>\n",
       "    <tr>\n",
       "      <th>25%</th>\n",
       "      <td>0.000000</td>\n",
       "      <td>0.000000</td>\n",
       "      <td>1.500000</td>\n",
       "    </tr>\n",
       "    <tr>\n",
       "      <th>50%</th>\n",
       "      <td>221.000000</td>\n",
       "      <td>3.000000</td>\n",
       "      <td>4.460000</td>\n",
       "    </tr>\n",
       "    <tr>\n",
       "      <th>75%</th>\n",
       "      <td>1209.000000</td>\n",
       "      <td>7.000000</td>\n",
       "      <td>9.520000</td>\n",
       "    </tr>\n",
       "    <tr>\n",
       "      <th>max</th>\n",
       "      <td>100000.000000</td>\n",
       "      <td>67.000000</td>\n",
       "      <td>28.000000</td>\n",
       "    </tr>\n",
       "  </tbody>\n",
       "</table>\n",
       "</div>"
      ],
      "text/plain": [
       "              Income  CreditScore        Debt\n",
       "count     307.000000   307.000000  307.000000\n",
       "mean     2038.859935     4.605863    5.904951\n",
       "std      7659.763941     6.320242    5.471485\n",
       "min         0.000000     0.000000    0.000000\n",
       "25%         0.000000     0.000000    1.500000\n",
       "50%       221.000000     3.000000    4.460000\n",
       "75%      1209.000000     7.000000    9.520000\n",
       "max    100000.000000    67.000000   28.000000"
      ]
     },
     "execution_count": 10,
     "metadata": {},
     "output_type": "execute_result"
    }
   ],
   "source": [
    "# summaries\n",
    "\n",
    "df_approved[['Income','CreditScore','Debt']].describe()"
   ]
  },
  {
   "cell_type": "code",
   "execution_count": 11,
   "metadata": {},
   "outputs": [],
   "source": [
    "# we need to use complete dataset here, df"
   ]
  },
  {
   "cell_type": "raw",
   "metadata": {},
   "source": [
    "# Removing outliers: \n",
    " - calculate the boundaries, then get the counts of outlier, remove or treat?\n",
    " \n",
    "# Missing value:\n",
    " - counts of missing "
   ]
  },
  {
   "cell_type": "code",
   "execution_count": 12,
   "metadata": {},
   "outputs": [
    {
     "data": {
      "text/html": [
       "<div>\n",
       "<style scoped>\n",
       "    .dataframe tbody tr th:only-of-type {\n",
       "        vertical-align: middle;\n",
       "    }\n",
       "\n",
       "    .dataframe tbody tr th {\n",
       "        vertical-align: top;\n",
       "    }\n",
       "\n",
       "    .dataframe thead th {\n",
       "        text-align: right;\n",
       "    }\n",
       "</style>\n",
       "<table border=\"1\" class=\"dataframe\">\n",
       "  <thead>\n",
       "    <tr style=\"text-align: right;\">\n",
       "      <th></th>\n",
       "      <th>Gender</th>\n",
       "      <th>Age</th>\n",
       "      <th>Debt</th>\n",
       "      <th>Married</th>\n",
       "      <th>BankCustomer</th>\n",
       "      <th>Education</th>\n",
       "      <th>Ethnicity</th>\n",
       "      <th>YearsEMployed</th>\n",
       "      <th>PriorDef</th>\n",
       "      <th>Employed</th>\n",
       "      <th>CreditScore</th>\n",
       "      <th>DriverLicense</th>\n",
       "      <th>Citizen</th>\n",
       "      <th>Zipcode</th>\n",
       "      <th>Income</th>\n",
       "      <th>Approved</th>\n",
       "      <th>approved_relabel</th>\n",
       "    </tr>\n",
       "  </thead>\n",
       "  <tbody>\n",
       "    <tr>\n",
       "      <th>0</th>\n",
       "      <td>b</td>\n",
       "      <td>30.83</td>\n",
       "      <td>0.000</td>\n",
       "      <td>u</td>\n",
       "      <td>g</td>\n",
       "      <td>w</td>\n",
       "      <td>v</td>\n",
       "      <td>1.25</td>\n",
       "      <td>t</td>\n",
       "      <td>t</td>\n",
       "      <td>1</td>\n",
       "      <td>f</td>\n",
       "      <td>g</td>\n",
       "      <td>00202</td>\n",
       "      <td>0</td>\n",
       "      <td>+</td>\n",
       "      <td>1</td>\n",
       "    </tr>\n",
       "    <tr>\n",
       "      <th>1</th>\n",
       "      <td>a</td>\n",
       "      <td>58.67</td>\n",
       "      <td>4.460</td>\n",
       "      <td>u</td>\n",
       "      <td>g</td>\n",
       "      <td>q</td>\n",
       "      <td>h</td>\n",
       "      <td>3.04</td>\n",
       "      <td>t</td>\n",
       "      <td>t</td>\n",
       "      <td>6</td>\n",
       "      <td>f</td>\n",
       "      <td>g</td>\n",
       "      <td>00043</td>\n",
       "      <td>560</td>\n",
       "      <td>+</td>\n",
       "      <td>1</td>\n",
       "    </tr>\n",
       "    <tr>\n",
       "      <th>2</th>\n",
       "      <td>a</td>\n",
       "      <td>24.50</td>\n",
       "      <td>0.500</td>\n",
       "      <td>u</td>\n",
       "      <td>g</td>\n",
       "      <td>q</td>\n",
       "      <td>h</td>\n",
       "      <td>1.50</td>\n",
       "      <td>t</td>\n",
       "      <td>f</td>\n",
       "      <td>0</td>\n",
       "      <td>f</td>\n",
       "      <td>g</td>\n",
       "      <td>00280</td>\n",
       "      <td>824</td>\n",
       "      <td>+</td>\n",
       "      <td>1</td>\n",
       "    </tr>\n",
       "    <tr>\n",
       "      <th>3</th>\n",
       "      <td>b</td>\n",
       "      <td>27.83</td>\n",
       "      <td>1.540</td>\n",
       "      <td>u</td>\n",
       "      <td>g</td>\n",
       "      <td>w</td>\n",
       "      <td>v</td>\n",
       "      <td>3.75</td>\n",
       "      <td>t</td>\n",
       "      <td>t</td>\n",
       "      <td>5</td>\n",
       "      <td>t</td>\n",
       "      <td>g</td>\n",
       "      <td>00100</td>\n",
       "      <td>3</td>\n",
       "      <td>+</td>\n",
       "      <td>1</td>\n",
       "    </tr>\n",
       "    <tr>\n",
       "      <th>4</th>\n",
       "      <td>b</td>\n",
       "      <td>20.17</td>\n",
       "      <td>5.625</td>\n",
       "      <td>u</td>\n",
       "      <td>g</td>\n",
       "      <td>w</td>\n",
       "      <td>v</td>\n",
       "      <td>1.71</td>\n",
       "      <td>t</td>\n",
       "      <td>f</td>\n",
       "      <td>0</td>\n",
       "      <td>f</td>\n",
       "      <td>s</td>\n",
       "      <td>00120</td>\n",
       "      <td>0</td>\n",
       "      <td>+</td>\n",
       "      <td>1</td>\n",
       "    </tr>\n",
       "  </tbody>\n",
       "</table>\n",
       "</div>"
      ],
      "text/plain": [
       "  Gender    Age   Debt Married BankCustomer Education Ethnicity  \\\n",
       "0      b  30.83  0.000       u            g         w         v   \n",
       "1      a  58.67  4.460       u            g         q         h   \n",
       "2      a  24.50  0.500       u            g         q         h   \n",
       "3      b  27.83  1.540       u            g         w         v   \n",
       "4      b  20.17  5.625       u            g         w         v   \n",
       "\n",
       "   YearsEMployed PriorDef Employed  CreditScore DriverLicense Citizen Zipcode  \\\n",
       "0           1.25        t        t            1             f       g   00202   \n",
       "1           3.04        t        t            6             f       g   00043   \n",
       "2           1.50        t        f            0             f       g   00280   \n",
       "3           3.75        t        t            5             t       g   00100   \n",
       "4           1.71        t        f            0             f       s   00120   \n",
       "\n",
       "   Income Approved  approved_relabel  \n",
       "0       0        +                 1  \n",
       "1     560        +                 1  \n",
       "2     824        +                 1  \n",
       "3       3        +                 1  \n",
       "4       0        +                 1  "
      ]
     },
     "execution_count": 12,
     "metadata": {},
     "output_type": "execute_result"
    }
   ],
   "source": [
    "df.head()"
   ]
  },
  {
   "cell_type": "code",
   "execution_count": 13,
   "metadata": {},
   "outputs": [
    {
     "data": {
      "text/plain": [
       "(678, 17)"
      ]
     },
     "execution_count": 13,
     "metadata": {},
     "output_type": "execute_result"
    }
   ],
   "source": [
    "df[df['Age']!= '?'].shape"
   ]
  },
  {
   "cell_type": "code",
   "execution_count": 14,
   "metadata": {},
   "outputs": [
    {
     "data": {
      "text/plain": [
       "Gender              False\n",
       "Age                 False\n",
       "Debt                False\n",
       "Married             False\n",
       "BankCustomer        False\n",
       "Education           False\n",
       "Ethnicity           False\n",
       "YearsEMployed       False\n",
       "PriorDef            False\n",
       "Employed            False\n",
       "CreditScore         False\n",
       "DriverLicense       False\n",
       "Citizen             False\n",
       "Zipcode             False\n",
       "Income              False\n",
       "Approved            False\n",
       "approved_relabel    False\n",
       "dtype: bool"
      ]
     },
     "execution_count": 14,
     "metadata": {},
     "output_type": "execute_result"
    }
   ],
   "source": [
    "# from this code we can understand that there are no missing values in the data\n",
    "df.isnull().all()"
   ]
  },
  {
   "cell_type": "code",
   "execution_count": 15,
   "metadata": {},
   "outputs": [],
   "source": [
    "# here, we need to take additional care for special notations\n",
    "for col in ['Gender', 'Age', 'Married', 'BankCustomer', 'Education', 'Ethnicity','PriorDef', 'Employed', 'DriverLicense', 'Citizen', 'Zipcode']:\n",
    "    df = df[df[col] != '?']"
   ]
  },
  {
   "cell_type": "code",
   "execution_count": 16,
   "metadata": {},
   "outputs": [
    {
     "data": {
      "text/plain": [
       "(653, 17)"
      ]
     },
     "execution_count": 16,
     "metadata": {},
     "output_type": "execute_result"
    }
   ],
   "source": [
    "df.shape"
   ]
  },
  {
   "cell_type": "code",
   "execution_count": 42,
   "metadata": {},
   "outputs": [],
   "source": [
    "df['Age'] = df['Age'].astype(float)"
   ]
  },
  {
   "cell_type": "code",
   "execution_count": 44,
   "metadata": {
    "scrolled": true
   },
   "outputs": [],
   "source": [
    "# outlier treatment\n",
    "\n",
    "# we could use the rule of thumb that tells all data should be within 3 sd's\n",
    "import scipy \n",
    "from scipy import stats\n",
    "df_cleaned = df[(np.abs(stats.zscore(df[['Debt','Age','YearsEMployed','CreditScore','Income']])) < 3).all(axis = 1)]"
   ]
  },
  {
   "cell_type": "code",
   "execution_count": 45,
   "metadata": {},
   "outputs": [
    {
     "data": {
      "text/plain": [
       "(613, 17)"
      ]
     },
     "execution_count": 45,
     "metadata": {},
     "output_type": "execute_result"
    }
   ],
   "source": [
    "# we can\n",
    "df_cleaned.shape"
   ]
  },
  {
   "cell_type": "code",
   "execution_count": 46,
   "metadata": {},
   "outputs": [],
   "source": [
    "# since, we have categorical columns we need to perform one hot encoding\n",
    "\n",
    "df_cleaned = pd.get_dummies(df_cleaned, columns = ['Gender', 'Married', 'BankCustomer', 'Education', 'Ethnicity', 'PriorDef', 'Employed', 'DriverLicense', 'Citizen', 'Zipcode'])\n",
    "\n",
    "x = df_cleaned.drop(['Approved','approved_relabel'], axis = 1)\n",
    "y = df_cleaned['approved_relabel']"
   ]
  },
  {
   "cell_type": "code",
   "execution_count": 47,
   "metadata": {},
   "outputs": [],
   "source": [
    "import sklearn\n",
    "\n",
    "from sklearn.model_selection import train_test_split\n",
    "\n",
    "x_train,x_test,y_train,y_test = train_test_split(x,y, test_size = 0.2, random_state = 3)"
   ]
  },
  {
   "cell_type": "markdown",
   "metadata": {},
   "source": [
    "# LGBM"
   ]
  },
  {
   "cell_type": "code",
   "execution_count": 59,
   "metadata": {},
   "outputs": [
    {
     "name": "stderr",
     "output_type": "stream",
     "text": [
      "C:\\Users\\saich\\Anaconda3\\lib\\site-packages\\sklearn\\preprocessing\\label.py:151: DeprecationWarning: The truth value of an empty array is ambiguous. Returning False, but in future this will result in an error. Use `array.size > 0` to check that an array is not empty.\n",
      "  if diff:\n"
     ]
    }
   ],
   "source": [
    "# the probemd at hand is binary classification problem\n",
    "\n",
    "import lightgbm as lgbm\n",
    "\n",
    "lgb = lgbm.LGBMClassifier(learning_rate=0.01, n_estimators=50, boosting_type= 'gbdt', max_depth= 3, num_leaves= 100, objective= 'binary', metrics = \"auc\",\n",
    "                        random_state = 5)\n",
    "\n",
    "lgb.fit(x_train, y_train)\n",
    "predictions = lgb.predict(x_test)"
   ]
  },
  {
   "cell_type": "code",
   "execution_count": 60,
   "metadata": {},
   "outputs": [
    {
     "name": "stdout",
     "output_type": "stream",
     "text": [
      "Accuracy: 0.8130081300813008\n",
      "Precision: 0.8292682926829268\n",
      "Recall: 0.68\n",
      "AUC: 0.7920547945205481\n"
     ]
    }
   ],
   "source": [
    "# calculating evaluation metrics\n",
    "from sklearn.metrics import accuracy_score, precision_score, recall_score, roc_auc_score\n",
    "print(\"Accuracy:\", accuracy_score(y_test, predictions))\n",
    "print(\"Precision:\", precision_score(y_test, predictions))\n",
    "print(\"Recall:\", recall_score(y_test, predictions))\n",
    "print(\"AUC:\", roc_auc_score(y_test, predictions))"
   ]
  },
  {
   "cell_type": "code",
   "execution_count": 61,
   "metadata": {},
   "outputs": [
    {
     "data": {
      "text/plain": [
       "array([[66,  7],\n",
       "       [16, 34]], dtype=int64)"
      ]
     },
     "execution_count": 61,
     "metadata": {},
     "output_type": "execute_result"
    }
   ],
   "source": [
    "from sklearn.metrics import confusion_matrix\n",
    "\n",
    "confusion_matrix(y_test, predictions)"
   ]
  },
  {
   "cell_type": "markdown",
   "metadata": {},
   "source": [
    "# logistic regression"
   ]
  },
  {
   "cell_type": "code",
   "execution_count": 90,
   "metadata": {},
   "outputs": [],
   "source": [
    "from sklearn.linear_model import LogisticRegression\n",
    "\n",
    "LogisticModel = LogisticRegression()\n",
    "\n",
    "LogisticModel.fit(x_train,y_train)\n",
    "predictions_Logistic = LogisticModel.predict(x_test)"
   ]
  },
  {
   "cell_type": "code",
   "execution_count": 91,
   "metadata": {},
   "outputs": [
    {
     "name": "stdout",
     "output_type": "stream",
     "text": [
      "Accuracy: 0.8617886178861789\n",
      "Precision: 0.8235294117647058\n",
      "Recall: 0.84\n",
      "AUC: 0.8583561643835615\n"
     ]
    }
   ],
   "source": [
    "print(\"Accuracy:\", accuracy_score(y_test, predictions_Logistic))\n",
    "print(\"Precision:\", precision_score(y_test, predictions_Logistic))\n",
    "print(\"Recall:\", recall_score(y_test, predictions_Logistic))\n",
    "print(\"AUC:\", roc_auc_score(y_test, predictions_Logistic))"
   ]
  },
  {
   "cell_type": "code",
   "execution_count": 92,
   "metadata": {},
   "outputs": [
    {
     "data": {
      "text/plain": [
       "array([[64,  9],\n",
       "       [ 8, 42]], dtype=int64)"
      ]
     },
     "execution_count": 92,
     "metadata": {},
     "output_type": "execute_result"
    }
   ],
   "source": [
    "confusion_matrix(y_test, predictions_Logistic)"
   ]
  },
  {
   "cell_type": "markdown",
   "metadata": {},
   "source": [
    "# Random Forest"
   ]
  },
  {
   "cell_type": "code",
   "execution_count": 93,
   "metadata": {},
   "outputs": [],
   "source": [
    "from sklearn.ensemble import RandomForestClassifier\n",
    "\n",
    "RandomForest = RandomForestClassifier(max_depth = 10, random_state = 5, n_estimators= 500)\n",
    "\n",
    "RandomForest.fit(x_train, y_train)\n",
    "predictions_random_forest = RandomForest.predict(x_test)"
   ]
  },
  {
   "cell_type": "code",
   "execution_count": 94,
   "metadata": {},
   "outputs": [
    {
     "name": "stdout",
     "output_type": "stream",
     "text": [
      "Accuracy: 0.8617886178861789\n",
      "Precision: 0.851063829787234\n",
      "Recall: 0.8\n",
      "AUC: 0.852054794520548\n"
     ]
    }
   ],
   "source": [
    "print(\"Accuracy:\", accuracy_score(y_test, predictions_random_forest))\n",
    "print(\"Precision:\", precision_score(y_test, predictions_random_forest))\n",
    "print(\"Recall:\", recall_score(y_test, predictions_random_forest))\n",
    "print(\"AUC:\", roc_auc_score(y_test, predictions_random_forest))"
   ]
  },
  {
   "cell_type": "code",
   "execution_count": 95,
   "metadata": {},
   "outputs": [
    {
     "data": {
      "text/plain": [
       "array([[66,  7],\n",
       "       [10, 40]], dtype=int64)"
      ]
     },
     "execution_count": 95,
     "metadata": {},
     "output_type": "execute_result"
    }
   ],
   "source": [
    "confusion_matrix(y_test, predictions_random_forest)"
   ]
  },
  {
   "cell_type": "code",
   "execution_count": 96,
   "metadata": {},
   "outputs": [],
   "source": [
    "importances = RandomForest.feature_importances_"
   ]
  },
  {
   "cell_type": "code",
   "execution_count": 103,
   "metadata": {},
   "outputs": [
    {
     "name": "stdout",
     "output_type": "stream",
     "text": [
      "Age = 0.03403090448641002\n",
      "Debt = 0.04002013102383879\n",
      "YearsEMployed = 0.05506591490145608\n",
      "CreditScore = 0.08152464498964725\n",
      "Income = 0.05045472837004686\n",
      "Gender_a = 0.0054608023966300654\n",
      "Gender_b = 0.005181056357551965\n",
      "Married_l = 0.0009899717769202739\n",
      "Married_u = 0.0073599710709718056\n",
      "Married_y = 0.00822593300351642\n",
      "BankCustomer_g = 0.006887762596631072\n",
      "BankCustomer_gg = 0.0008941422099076004\n",
      "BankCustomer_p = 0.007537658549339867\n",
      "Education_aa = 0.004490940616429817\n",
      "Education_c = 0.004962784130611772\n",
      "Education_cc = 0.006874468925498268\n",
      "Education_d = 0.0023801256692389883\n",
      "Education_e = 0.0012562067065093733\n",
      "Education_ff = 0.007296537055101864\n",
      "Education_i = 0.00713209736718155\n",
      "Education_j = 0.0005301523889335072\n",
      "Education_k = 0.006180418329747244\n",
      "Education_m = 0.0023333938348153154\n",
      "Education_q = 0.007798429866296047\n",
      "Education_r = 6.862274052839859e-05\n",
      "Education_w = 0.00767595825487688\n",
      "Education_x = 0.00797534865101531\n",
      "Ethnicity_bb = 0.005050281659523337\n",
      "Ethnicity_dd = 0.00010522263656513128\n",
      "Ethnicity_ff = 0.007066661409372661\n",
      "Ethnicity_h = 0.009774371856772353\n",
      "Ethnicity_j = 0.0021337956185822453\n",
      "Ethnicity_n = 0.0023671271452354718\n",
      "Ethnicity_o = 7.124439541277534e-05\n",
      "Ethnicity_v = 0.0060741471421709835\n",
      "Ethnicity_z = 4.046065467628155e-05\n",
      "PriorDef_f = 0.18700153348830068\n",
      "PriorDef_t = 0.171029734162702\n",
      "Employed_f = 0.059894225174622354\n",
      "Employed_t = 0.05499329375521203\n",
      "DriverLicense_f = 0.007094741403410426\n",
      "DriverLicense_t = 0.00732573718079236\n",
      "Citizen_g = 0.004854230535965288\n",
      "Citizen_p = 0.0\n",
      "Citizen_s = 0.00527139083825904\n",
      "Zipcode_00000 = 0.005495513580353281\n",
      "Zipcode_00017 = 0.0\n",
      "Zipcode_00020 = 0.0005157428614668514\n",
      "Zipcode_00021 = 0.00027157995206953533\n",
      "Zipcode_00024 = 0.00017773096624002313\n",
      "Zipcode_00028 = 1.7339473364093177e-05\n",
      "Zipcode_00029 = 0.00019926841353886654\n",
      "Zipcode_00032 = 0.0\n",
      "Zipcode_00040 = 0.00026865482364071933\n",
      "Zipcode_00043 = 6.0368331197107515e-05\n",
      "Zipcode_00045 = 0.0\n",
      "Zipcode_00049 = 0.0002462687027223046\n",
      "Zipcode_00050 = 0.00039505266147804103\n",
      "Zipcode_00052 = 0.0006464449927193197\n",
      "Zipcode_00056 = 7.548625595782335e-05\n",
      "Zipcode_00060 = 0.0008028452776364915\n",
      "Zipcode_00062 = 6.415495778124461e-05\n",
      "Zipcode_00070 = 0.0008614782992869643\n",
      "Zipcode_00073 = 5.0030330383991006e-05\n",
      "Zipcode_00075 = 0.0\n",
      "Zipcode_00076 = 3.6677877372988865e-05\n",
      "Zipcode_00080 = 0.0027539144258803324\n",
      "Zipcode_00086 = 0.0\n",
      "Zipcode_00088 = 0.00016631016018668369\n",
      "Zipcode_00092 = 0.0001515438855535064\n",
      "Zipcode_00093 = 2.1084797659485575e-05\n",
      "Zipcode_00094 = 0.0009433610381479906\n",
      "Zipcode_00096 = 0.00024003820755553963\n",
      "Zipcode_00099 = 3.417779903479549e-05\n",
      "Zipcode_00100 = 0.0036664511277624484\n",
      "Zipcode_00102 = 0.0005209188122606999\n",
      "Zipcode_00108 = 0.00010870236282350803\n",
      "Zipcode_00110 = 0.0\n",
      "Zipcode_00112 = 0.0004962060153241214\n",
      "Zipcode_00117 = 2.2119855834366408e-05\n",
      "Zipcode_00120 = 0.002020891924005325\n",
      "Zipcode_00121 = 0.0\n",
      "Zipcode_00128 = 0.002317581135601612\n",
      "Zipcode_00129 = 0.0003743262624681956\n",
      "Zipcode_00130 = 1.842832241526838e-05\n",
      "Zipcode_00132 = 0.0018962452915240772\n",
      "Zipcode_00136 = 0.00010334116415055034\n",
      "Zipcode_00140 = 0.003816121516528173\n",
      "Zipcode_00141 = 0.00011260499570779685\n",
      "Zipcode_00144 = 0.0002991350927448281\n",
      "Zipcode_00145 = 0.00010902574955829336\n",
      "Zipcode_00150 = 0.002350050973128622\n",
      "Zipcode_00154 = 0.000795009934673415\n",
      "Zipcode_00156 = 0.00013572218399584342\n",
      "Zipcode_00160 = 0.004182508054987247\n",
      "Zipcode_00163 = 0.0\n",
      "Zipcode_00164 = 0.0025835052579460884\n",
      "Zipcode_00167 = 0.0015827407534491677\n",
      "Zipcode_00168 = 2.4411314062315444e-05\n",
      "Zipcode_00170 = 0.0\n",
      "Zipcode_00171 = 0.00044391312851509813\n",
      "Zipcode_00174 = 0.00019105104939768483\n",
      "Zipcode_00176 = 0.0005996723610905279\n",
      "Zipcode_00178 = 4.100843575386573e-05\n",
      "Zipcode_00180 = 0.005652982883857916\n",
      "Zipcode_00181 = 0.00033867604394952636\n",
      "Zipcode_00186 = 8.768177562945414e-05\n",
      "Zipcode_00188 = 0.00026696513716553417\n",
      "Zipcode_00195 = 0.00037741506575075475\n",
      "Zipcode_00200 = 0.003910357148863063\n",
      "Zipcode_00202 = 9.290437796162785e-05\n",
      "Zipcode_00204 = 6.335612145504583e-05\n",
      "Zipcode_00208 = 0.0\n",
      "Zipcode_00210 = 0.00020672200240951348\n",
      "Zipcode_00211 = 0.0002709967889823962\n",
      "Zipcode_00212 = 0.00124604001872974\n",
      "Zipcode_00216 = 7.366965606106915e-05\n",
      "Zipcode_00220 = 0.00048704178052149066\n",
      "Zipcode_00221 = 1.4036312328304045e-05\n",
      "Zipcode_00224 = 2.947130439216073e-05\n",
      "Zipcode_00225 = 0.000970496882260158\n",
      "Zipcode_00228 = 0.0004679973321900438\n",
      "Zipcode_00230 = 0.0009062812115738988\n",
      "Zipcode_00231 = 0.0\n",
      "Zipcode_00232 = 0.0006171462027619447\n",
      "Zipcode_00239 = 0.0\n",
      "Zipcode_00240 = 0.001191902794046239\n",
      "Zipcode_00250 = 6.65580847063325e-05\n",
      "Zipcode_00252 = 0.0008250697423962646\n",
      "Zipcode_00253 = 6.616064392692639e-06\n",
      "Zipcode_00254 = 0.0006986254400737498\n",
      "Zipcode_00260 = 0.0017440579352294779\n",
      "Zipcode_00268 = 0.0005180317016606369\n",
      "Zipcode_00272 = 0.0005110709179205562\n",
      "Zipcode_00274 = 0.0\n",
      "Zipcode_00276 = 2.0875291244752442e-05\n",
      "Zipcode_00280 = 0.0023961545768169334\n",
      "Zipcode_00288 = 0.0\n",
      "Zipcode_00290 = 0.0020750860289381417\n",
      "Zipcode_00292 = 6.617688367006105e-05\n",
      "Zipcode_00300 = 0.0038999686535076336\n",
      "Zipcode_00303 = 8.114485179496915e-05\n",
      "Zipcode_00309 = 0.00011190187650015422\n",
      "Zipcode_00311 = 3.786235351975975e-05\n",
      "Zipcode_00312 = 0.00035028568313932786\n",
      "Zipcode_00320 = 0.0020208735228922853\n",
      "Zipcode_00329 = 0.002044469829816272\n",
      "Zipcode_00330 = 3.313172999694096e-05\n",
      "Zipcode_00333 = 0.0\n",
      "Zipcode_00340 = 0.0004265666818671747\n",
      "Zipcode_00348 = 7.190985650543471e-05\n",
      "Zipcode_00349 = 0.0007545076094826289\n",
      "Zipcode_00350 = 0.00042474403628588354\n",
      "Zipcode_00352 = 0.0001437682622615874\n",
      "Zipcode_00356 = 7.93258868339767e-06\n",
      "Zipcode_00360 = 0.0009668960179467737\n",
      "Zipcode_00368 = 0.0007374528826478956\n",
      "Zipcode_00369 = 0.0004596364429536361\n",
      "Zipcode_00370 = 0.001428815088795448\n",
      "Zipcode_00371 = 4.6862087721644184e-05\n",
      "Zipcode_00380 = 0.0008012740876194593\n",
      "Zipcode_00381 = 5.299463324909215e-05\n",
      "Zipcode_00383 = 6.265351965594233e-05\n",
      "Zipcode_00393 = 0.0\n",
      "Zipcode_00395 = 0.00010112302997695969\n",
      "Zipcode_00396 = 0.00020037377768962437\n",
      "Zipcode_00399 = 0.0001888166173116846\n",
      "Zipcode_00400 = 0.001670588384737792\n",
      "Zipcode_00408 = 0.0\n",
      "Zipcode_00410 = 7.640278412477411e-05\n",
      "Zipcode_00416 = 0.00028325290428830657\n",
      "Zipcode_00420 = 0.00046480891115852795\n",
      "Zipcode_00422 = 0.00075222756651324\n",
      "Zipcode_00431 = 0.0023024461539212773\n",
      "Zipcode_00432 = 0.00028606303698614616\n",
      "Zipcode_00434 = 0.00023604554736915412\n",
      "Zipcode_00440 = 0.0011032967745420472\n",
      "Zipcode_00443 = 0.0\n",
      "Zipcode_00454 = 0.00015412856786818557\n",
      "Zipcode_00460 = 0.00023670425921331145\n",
      "Zipcode_00465 = 0.00016457174441938708\n",
      "Zipcode_00470 = 1.6981058409289987e-05\n",
      "Zipcode_00480 = 0.00019541220300247947\n",
      "Zipcode_00487 = 0.0\n",
      "Zipcode_00491 = 0.0\n",
      "Zipcode_00500 = 0.0020844112102760856\n",
      "Zipcode_00510 = 0.0\n",
      "Zipcode_00520 = 9.880307257701511e-05\n",
      "Zipcode_00523 = 0.0005461686700534831\n",
      "Zipcode_00550 = 2.7299225746915966e-05\n",
      "Zipcode_00560 = 0.001777728377375333\n",
      "Zipcode_00583 = 3.022579025982374e-06\n",
      "Zipcode_00600 = 0.0\n",
      "Zipcode_00640 = 0.00014018286751365806\n",
      "Zipcode_00680 = 0.00096755278474103\n",
      "Zipcode_00711 = 0.0\n",
      "Zipcode_00720 = 0.00029951118972816143\n",
      "Zipcode_00840 = 0.0004118944224825134\n",
      "Zipcode_02000 = 0.0\n"
     ]
    }
   ],
   "source": [
    "for name, importance in zip(x_train.columns, RandomForest.feature_importances_):\n",
    "    print(name, \"=\", importance)"
   ]
  },
  {
   "cell_type": "code",
   "execution_count": null,
   "metadata": {},
   "outputs": [],
   "source": []
  },
  {
   "cell_type": "code",
   "execution_count": 104,
   "metadata": {},
   "outputs": [],
   "source": [
    "d = []\n",
    "for name, importance in zip(x_train.columns, RandomForest.feature_importances_):\n",
    "    d.append(\n",
    "        {\n",
    "            'Variable': name,\n",
    "            'Importance': importance,\n",
    "        }\n",
    "    )\n",
    "temp = pd.DataFrame(d)"
   ]
  },
  {
   "cell_type": "code",
   "execution_count": 106,
   "metadata": {
    "scrolled": true
   },
   "outputs": [
    {
     "data": {
      "text/html": [
       "<div>\n",
       "<style scoped>\n",
       "    .dataframe tbody tr th:only-of-type {\n",
       "        vertical-align: middle;\n",
       "    }\n",
       "\n",
       "    .dataframe tbody tr th {\n",
       "        vertical-align: top;\n",
       "    }\n",
       "\n",
       "    .dataframe thead th {\n",
       "        text-align: right;\n",
       "    }\n",
       "</style>\n",
       "<table border=\"1\" class=\"dataframe\">\n",
       "  <thead>\n",
       "    <tr style=\"text-align: right;\">\n",
       "      <th></th>\n",
       "      <th>Importance</th>\n",
       "      <th>Variable</th>\n",
       "    </tr>\n",
       "  </thead>\n",
       "  <tbody>\n",
       "    <tr>\n",
       "      <th>36</th>\n",
       "      <td>0.187002</td>\n",
       "      <td>PriorDef_f</td>\n",
       "    </tr>\n",
       "    <tr>\n",
       "      <th>37</th>\n",
       "      <td>0.171030</td>\n",
       "      <td>PriorDef_t</td>\n",
       "    </tr>\n",
       "    <tr>\n",
       "      <th>3</th>\n",
       "      <td>0.081525</td>\n",
       "      <td>CreditScore</td>\n",
       "    </tr>\n",
       "    <tr>\n",
       "      <th>38</th>\n",
       "      <td>0.059894</td>\n",
       "      <td>Employed_f</td>\n",
       "    </tr>\n",
       "    <tr>\n",
       "      <th>2</th>\n",
       "      <td>0.055066</td>\n",
       "      <td>YearsEMployed</td>\n",
       "    </tr>\n",
       "    <tr>\n",
       "      <th>39</th>\n",
       "      <td>0.054993</td>\n",
       "      <td>Employed_t</td>\n",
       "    </tr>\n",
       "    <tr>\n",
       "      <th>4</th>\n",
       "      <td>0.050455</td>\n",
       "      <td>Income</td>\n",
       "    </tr>\n",
       "    <tr>\n",
       "      <th>1</th>\n",
       "      <td>0.040020</td>\n",
       "      <td>Debt</td>\n",
       "    </tr>\n",
       "    <tr>\n",
       "      <th>0</th>\n",
       "      <td>0.034031</td>\n",
       "      <td>Age</td>\n",
       "    </tr>\n",
       "    <tr>\n",
       "      <th>30</th>\n",
       "      <td>0.009774</td>\n",
       "      <td>Ethnicity_h</td>\n",
       "    </tr>\n",
       "    <tr>\n",
       "      <th>9</th>\n",
       "      <td>0.008226</td>\n",
       "      <td>Married_y</td>\n",
       "    </tr>\n",
       "    <tr>\n",
       "      <th>26</th>\n",
       "      <td>0.007975</td>\n",
       "      <td>Education_x</td>\n",
       "    </tr>\n",
       "    <tr>\n",
       "      <th>23</th>\n",
       "      <td>0.007798</td>\n",
       "      <td>Education_q</td>\n",
       "    </tr>\n",
       "    <tr>\n",
       "      <th>25</th>\n",
       "      <td>0.007676</td>\n",
       "      <td>Education_w</td>\n",
       "    </tr>\n",
       "    <tr>\n",
       "      <th>12</th>\n",
       "      <td>0.007538</td>\n",
       "      <td>BankCustomer_p</td>\n",
       "    </tr>\n",
       "    <tr>\n",
       "      <th>8</th>\n",
       "      <td>0.007360</td>\n",
       "      <td>Married_u</td>\n",
       "    </tr>\n",
       "    <tr>\n",
       "      <th>41</th>\n",
       "      <td>0.007326</td>\n",
       "      <td>DriverLicense_t</td>\n",
       "    </tr>\n",
       "    <tr>\n",
       "      <th>18</th>\n",
       "      <td>0.007297</td>\n",
       "      <td>Education_ff</td>\n",
       "    </tr>\n",
       "    <tr>\n",
       "      <th>19</th>\n",
       "      <td>0.007132</td>\n",
       "      <td>Education_i</td>\n",
       "    </tr>\n",
       "    <tr>\n",
       "      <th>40</th>\n",
       "      <td>0.007095</td>\n",
       "      <td>DriverLicense_f</td>\n",
       "    </tr>\n",
       "    <tr>\n",
       "      <th>29</th>\n",
       "      <td>0.007067</td>\n",
       "      <td>Ethnicity_ff</td>\n",
       "    </tr>\n",
       "    <tr>\n",
       "      <th>10</th>\n",
       "      <td>0.006888</td>\n",
       "      <td>BankCustomer_g</td>\n",
       "    </tr>\n",
       "    <tr>\n",
       "      <th>15</th>\n",
       "      <td>0.006874</td>\n",
       "      <td>Education_cc</td>\n",
       "    </tr>\n",
       "    <tr>\n",
       "      <th>21</th>\n",
       "      <td>0.006180</td>\n",
       "      <td>Education_k</td>\n",
       "    </tr>\n",
       "    <tr>\n",
       "      <th>34</th>\n",
       "      <td>0.006074</td>\n",
       "      <td>Ethnicity_v</td>\n",
       "    </tr>\n",
       "    <tr>\n",
       "      <th>104</th>\n",
       "      <td>0.005653</td>\n",
       "      <td>Zipcode_00180</td>\n",
       "    </tr>\n",
       "    <tr>\n",
       "      <th>45</th>\n",
       "      <td>0.005496</td>\n",
       "      <td>Zipcode_00000</td>\n",
       "    </tr>\n",
       "    <tr>\n",
       "      <th>5</th>\n",
       "      <td>0.005461</td>\n",
       "      <td>Gender_a</td>\n",
       "    </tr>\n",
       "    <tr>\n",
       "      <th>44</th>\n",
       "      <td>0.005271</td>\n",
       "      <td>Citizen_s</td>\n",
       "    </tr>\n",
       "    <tr>\n",
       "      <th>6</th>\n",
       "      <td>0.005181</td>\n",
       "      <td>Gender_b</td>\n",
       "    </tr>\n",
       "    <tr>\n",
       "      <th>...</th>\n",
       "      <td>...</td>\n",
       "      <td>...</td>\n",
       "    </tr>\n",
       "    <tr>\n",
       "      <th>181</th>\n",
       "      <td>0.000017</td>\n",
       "      <td>Zipcode_00470</td>\n",
       "    </tr>\n",
       "    <tr>\n",
       "      <th>118</th>\n",
       "      <td>0.000014</td>\n",
       "      <td>Zipcode_00221</td>\n",
       "    </tr>\n",
       "    <tr>\n",
       "      <th>154</th>\n",
       "      <td>0.000008</td>\n",
       "      <td>Zipcode_00356</td>\n",
       "    </tr>\n",
       "    <tr>\n",
       "      <th>129</th>\n",
       "      <td>0.000007</td>\n",
       "      <td>Zipcode_00253</td>\n",
       "    </tr>\n",
       "    <tr>\n",
       "      <th>191</th>\n",
       "      <td>0.000003</td>\n",
       "      <td>Zipcode_00583</td>\n",
       "    </tr>\n",
       "    <tr>\n",
       "      <th>195</th>\n",
       "      <td>0.000000</td>\n",
       "      <td>Zipcode_00711</td>\n",
       "    </tr>\n",
       "    <tr>\n",
       "      <th>183</th>\n",
       "      <td>0.000000</td>\n",
       "      <td>Zipcode_00487</td>\n",
       "    </tr>\n",
       "    <tr>\n",
       "      <th>192</th>\n",
       "      <td>0.000000</td>\n",
       "      <td>Zipcode_00600</td>\n",
       "    </tr>\n",
       "    <tr>\n",
       "      <th>184</th>\n",
       "      <td>0.000000</td>\n",
       "      <td>Zipcode_00491</td>\n",
       "    </tr>\n",
       "    <tr>\n",
       "      <th>186</th>\n",
       "      <td>0.000000</td>\n",
       "      <td>Zipcode_00510</td>\n",
       "    </tr>\n",
       "    <tr>\n",
       "      <th>99</th>\n",
       "      <td>0.000000</td>\n",
       "      <td>Zipcode_00170</td>\n",
       "    </tr>\n",
       "    <tr>\n",
       "      <th>177</th>\n",
       "      <td>0.000000</td>\n",
       "      <td>Zipcode_00443</td>\n",
       "    </tr>\n",
       "    <tr>\n",
       "      <th>81</th>\n",
       "      <td>0.000000</td>\n",
       "      <td>Zipcode_00121</td>\n",
       "    </tr>\n",
       "    <tr>\n",
       "      <th>43</th>\n",
       "      <td>0.000000</td>\n",
       "      <td>Citizen_p</td>\n",
       "    </tr>\n",
       "    <tr>\n",
       "      <th>46</th>\n",
       "      <td>0.000000</td>\n",
       "      <td>Zipcode_00017</td>\n",
       "    </tr>\n",
       "    <tr>\n",
       "      <th>52</th>\n",
       "      <td>0.000000</td>\n",
       "      <td>Zipcode_00032</td>\n",
       "    </tr>\n",
       "    <tr>\n",
       "      <th>55</th>\n",
       "      <td>0.000000</td>\n",
       "      <td>Zipcode_00045</td>\n",
       "    </tr>\n",
       "    <tr>\n",
       "      <th>64</th>\n",
       "      <td>0.000000</td>\n",
       "      <td>Zipcode_00075</td>\n",
       "    </tr>\n",
       "    <tr>\n",
       "      <th>67</th>\n",
       "      <td>0.000000</td>\n",
       "      <td>Zipcode_00086</td>\n",
       "    </tr>\n",
       "    <tr>\n",
       "      <th>77</th>\n",
       "      <td>0.000000</td>\n",
       "      <td>Zipcode_00110</td>\n",
       "    </tr>\n",
       "    <tr>\n",
       "      <th>95</th>\n",
       "      <td>0.000000</td>\n",
       "      <td>Zipcode_00163</td>\n",
       "    </tr>\n",
       "    <tr>\n",
       "      <th>168</th>\n",
       "      <td>0.000000</td>\n",
       "      <td>Zipcode_00408</td>\n",
       "    </tr>\n",
       "    <tr>\n",
       "      <th>112</th>\n",
       "      <td>0.000000</td>\n",
       "      <td>Zipcode_00208</td>\n",
       "    </tr>\n",
       "    <tr>\n",
       "      <th>123</th>\n",
       "      <td>0.000000</td>\n",
       "      <td>Zipcode_00231</td>\n",
       "    </tr>\n",
       "    <tr>\n",
       "      <th>125</th>\n",
       "      <td>0.000000</td>\n",
       "      <td>Zipcode_00239</td>\n",
       "    </tr>\n",
       "    <tr>\n",
       "      <th>134</th>\n",
       "      <td>0.000000</td>\n",
       "      <td>Zipcode_00274</td>\n",
       "    </tr>\n",
       "    <tr>\n",
       "      <th>137</th>\n",
       "      <td>0.000000</td>\n",
       "      <td>Zipcode_00288</td>\n",
       "    </tr>\n",
       "    <tr>\n",
       "      <th>148</th>\n",
       "      <td>0.000000</td>\n",
       "      <td>Zipcode_00333</td>\n",
       "    </tr>\n",
       "    <tr>\n",
       "      <th>163</th>\n",
       "      <td>0.000000</td>\n",
       "      <td>Zipcode_00393</td>\n",
       "    </tr>\n",
       "    <tr>\n",
       "      <th>198</th>\n",
       "      <td>0.000000</td>\n",
       "      <td>Zipcode_02000</td>\n",
       "    </tr>\n",
       "  </tbody>\n",
       "</table>\n",
       "<p>199 rows × 2 columns</p>\n",
       "</div>"
      ],
      "text/plain": [
       "     Importance         Variable\n",
       "36     0.187002       PriorDef_f\n",
       "37     0.171030       PriorDef_t\n",
       "3      0.081525      CreditScore\n",
       "38     0.059894       Employed_f\n",
       "2      0.055066    YearsEMployed\n",
       "39     0.054993       Employed_t\n",
       "4      0.050455           Income\n",
       "1      0.040020             Debt\n",
       "0      0.034031              Age\n",
       "30     0.009774      Ethnicity_h\n",
       "9      0.008226        Married_y\n",
       "26     0.007975      Education_x\n",
       "23     0.007798      Education_q\n",
       "25     0.007676      Education_w\n",
       "12     0.007538   BankCustomer_p\n",
       "8      0.007360        Married_u\n",
       "41     0.007326  DriverLicense_t\n",
       "18     0.007297     Education_ff\n",
       "19     0.007132      Education_i\n",
       "40     0.007095  DriverLicense_f\n",
       "29     0.007067     Ethnicity_ff\n",
       "10     0.006888   BankCustomer_g\n",
       "15     0.006874     Education_cc\n",
       "21     0.006180      Education_k\n",
       "34     0.006074      Ethnicity_v\n",
       "104    0.005653    Zipcode_00180\n",
       "45     0.005496    Zipcode_00000\n",
       "5      0.005461         Gender_a\n",
       "44     0.005271        Citizen_s\n",
       "6      0.005181         Gender_b\n",
       "..          ...              ...\n",
       "181    0.000017    Zipcode_00470\n",
       "118    0.000014    Zipcode_00221\n",
       "154    0.000008    Zipcode_00356\n",
       "129    0.000007    Zipcode_00253\n",
       "191    0.000003    Zipcode_00583\n",
       "195    0.000000    Zipcode_00711\n",
       "183    0.000000    Zipcode_00487\n",
       "192    0.000000    Zipcode_00600\n",
       "184    0.000000    Zipcode_00491\n",
       "186    0.000000    Zipcode_00510\n",
       "99     0.000000    Zipcode_00170\n",
       "177    0.000000    Zipcode_00443\n",
       "81     0.000000    Zipcode_00121\n",
       "43     0.000000        Citizen_p\n",
       "46     0.000000    Zipcode_00017\n",
       "52     0.000000    Zipcode_00032\n",
       "55     0.000000    Zipcode_00045\n",
       "64     0.000000    Zipcode_00075\n",
       "67     0.000000    Zipcode_00086\n",
       "77     0.000000    Zipcode_00110\n",
       "95     0.000000    Zipcode_00163\n",
       "168    0.000000    Zipcode_00408\n",
       "112    0.000000    Zipcode_00208\n",
       "123    0.000000    Zipcode_00231\n",
       "125    0.000000    Zipcode_00239\n",
       "134    0.000000    Zipcode_00274\n",
       "137    0.000000    Zipcode_00288\n",
       "148    0.000000    Zipcode_00333\n",
       "163    0.000000    Zipcode_00393\n",
       "198    0.000000    Zipcode_02000\n",
       "\n",
       "[199 rows x 2 columns]"
      ]
     },
     "execution_count": 106,
     "metadata": {},
     "output_type": "execute_result"
    }
   ],
   "source": [
    "# sorted values of variable importances\n",
    "temp.sort_values('Importance', ascending= False)"
   ]
  }
 ],
 "metadata": {
  "kernelspec": {
   "display_name": "Python 3",
   "language": "python",
   "name": "python3"
  },
  "language_info": {
   "codemirror_mode": {
    "name": "ipython",
    "version": 3
   },
   "file_extension": ".py",
   "mimetype": "text/x-python",
   "name": "python",
   "nbconvert_exporter": "python",
   "pygments_lexer": "ipython3",
   "version": "3.6.5"
  }
 },
 "nbformat": 4,
 "nbformat_minor": 2
}
